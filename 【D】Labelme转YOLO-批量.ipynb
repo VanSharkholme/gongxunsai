{
 "cells": [
  {
   "cell_type": "markdown",
   "id": "06e5af38-85ad-46b6-a5ea-52a7ff947853",
   "metadata": {},
   "source": [
    "# Labelme转YOLO-批量\n",
    "\n",
    "同济子豪兄 2023-4-16"
   ]
  },
  {
   "cell_type": "markdown",
   "id": "b0a8a2a1-fb46-4d51-8b4f-cd0568bc13f8",
   "metadata": {},
   "source": [
    "## 导入工具包"
   ]
  },
  {
   "cell_type": "code",
   "execution_count": 1,
   "id": "5969d148-19e6-4b2e-9797-01105b87b56c",
   "metadata": {
    "ExecuteTime": {
     "end_time": "2023-09-26T15:29:38.861310800Z",
     "start_time": "2023-09-26T15:29:38.772534900Z"
    }
   },
   "outputs": [],
   "source": [
    "import os\n",
    "import json\n",
    "import shutil\n",
    "import numpy as np\n",
    "from tqdm import tqdm"
   ]
  },
  {
   "cell_type": "markdown",
   "id": "75c4fd53-f3ce-4a27-9024-6abec83717d9",
   "metadata": {},
   "source": [
    "## 删除系统自动生成的多余文件"
   ]
  },
  {
   "cell_type": "markdown",
   "id": "b7ecd3ad-874c-46cc-ac47-6f4ae3adf07a",
   "metadata": {},
   "source": [
    "### 查看待删除的多余文件"
   ]
  },
  {
   "cell_type": "code",
   "execution_count": 2,
   "id": "a8356247-4b89-42e9-aa87-4c630f05e1f8",
   "metadata": {
    "ExecuteTime": {
     "end_time": "2023-09-26T15:29:51.906588500Z",
     "start_time": "2023-09-26T15:29:51.870678200Z"
    }
   },
   "outputs": [
    {
     "name": "stderr",
     "output_type": "stream",
     "text": [
      "FIND: 参数格式不正确\n"
     ]
    }
   ],
   "source": [
    "!find . -iname '__MACOSX'"
   ]
  },
  {
   "cell_type": "code",
   "execution_count": 3,
   "id": "a1b64d9d-bdf8-43fe-8321-bb6d241137dc",
   "metadata": {
    "ExecuteTime": {
     "end_time": "2023-09-26T15:29:52.604638400Z",
     "start_time": "2023-09-26T15:29:52.572692200Z"
    }
   },
   "outputs": [
    {
     "name": "stderr",
     "output_type": "stream",
     "text": [
      "FIND: 参数格式不正确\n"
     ]
    }
   ],
   "source": [
    "!find . -iname '.DS_Store'"
   ]
  },
  {
   "cell_type": "code",
   "execution_count": 4,
   "id": "a5f038c2-72ba-4724-a190-b2ec97d8bcf0",
   "metadata": {
    "ExecuteTime": {
     "end_time": "2023-09-26T15:29:53.381339900Z",
     "start_time": "2023-09-26T15:29:53.349407300Z"
    }
   },
   "outputs": [
    {
     "name": "stderr",
     "output_type": "stream",
     "text": [
      "FIND: 参数格式不正确\n"
     ]
    }
   ],
   "source": [
    "!find . -iname '.ipynb_checkpoints'"
   ]
  },
  {
   "cell_type": "markdown",
   "id": "191ccc29-baeb-46ff-8125-71c49adee533",
   "metadata": {},
   "source": [
    "### 删除多余文件"
   ]
  },
  {
   "cell_type": "code",
   "execution_count": 5,
   "id": "4bf04f95-0750-4248-8696-fa2aa4ff03e5",
   "metadata": {
    "ExecuteTime": {
     "end_time": "2023-09-26T15:29:55.481953500Z",
     "start_time": "2023-09-26T15:29:55.435826200Z"
    }
   },
   "outputs": [
    {
     "name": "stderr",
     "output_type": "stream",
     "text": [
      "此时不应有 i。\n"
     ]
    }
   ],
   "source": [
    "!for i in `find . -iname '__MACOSX'`; do rm -rf $i;done"
   ]
  },
  {
   "cell_type": "code",
   "execution_count": 6,
   "id": "217b2325-835b-451c-89d7-3d39c5dfc5c2",
   "metadata": {
    "ExecuteTime": {
     "end_time": "2023-09-26T15:29:56.057440800Z",
     "start_time": "2023-09-26T15:29:56.028955400Z"
    }
   },
   "outputs": [
    {
     "name": "stderr",
     "output_type": "stream",
     "text": [
      "此时不应有 i。\n"
     ]
    }
   ],
   "source": [
    "!for i in `find . -iname '.DS_Store'`; do rm -rf $i;done"
   ]
  },
  {
   "cell_type": "code",
   "execution_count": 7,
   "id": "cfb7afa4-106a-4e6a-ab35-86f0eb902432",
   "metadata": {
    "ExecuteTime": {
     "end_time": "2023-09-26T15:29:56.543915Z",
     "start_time": "2023-09-26T15:29:56.507867Z"
    }
   },
   "outputs": [
    {
     "name": "stderr",
     "output_type": "stream",
     "text": [
      "此时不应有 i。\n"
     ]
    }
   ],
   "source": [
    "!for i in `find . -iname '.ipynb_checkpoints'`; do rm -rf $i;done"
   ]
  },
  {
   "cell_type": "markdown",
   "id": "8a2904f2-93ba-4726-9b2b-b8285511a760",
   "metadata": {},
   "source": [
    "### 验证多余文件已删除"
   ]
  },
  {
   "cell_type": "code",
   "execution_count": 8,
   "id": "33239471-a70e-426d-beba-3517c14311e6",
   "metadata": {
    "ExecuteTime": {
     "end_time": "2023-09-26T15:29:58.424785500Z",
     "start_time": "2023-09-26T15:29:58.397685900Z"
    }
   },
   "outputs": [
    {
     "name": "stderr",
     "output_type": "stream",
     "text": [
      "FIND: 参数格式不正确\n"
     ]
    }
   ],
   "source": [
    "!find . -iname '__MACOSX'"
   ]
  },
  {
   "cell_type": "code",
   "execution_count": 9,
   "id": "f82a7703-8b94-4103-9672-ec29849616b9",
   "metadata": {
    "ExecuteTime": {
     "end_time": "2023-09-26T15:29:58.844113800Z",
     "start_time": "2023-09-26T15:29:58.806681400Z"
    }
   },
   "outputs": [
    {
     "name": "stderr",
     "output_type": "stream",
     "text": [
      "FIND: 参数格式不正确\n"
     ]
    }
   ],
   "source": [
    "!find . -iname '.DS_Store'"
   ]
  },
  {
   "cell_type": "code",
   "execution_count": 10,
   "id": "0101460a-d0bc-4388-aa0b-d30b0f0ef538",
   "metadata": {
    "ExecuteTime": {
     "end_time": "2023-09-26T15:29:59.314618800Z",
     "start_time": "2023-09-26T15:29:59.269776800Z"
    }
   },
   "outputs": [
    {
     "name": "stderr",
     "output_type": "stream",
     "text": [
      "FIND: 参数格式不正确\n"
     ]
    }
   ],
   "source": [
    "!find . -iname '.ipynb_checkpoints'"
   ]
  },
  {
   "cell_type": "markdown",
   "id": "092bec89-6d83-4800-9cc9-3619896b2572",
   "metadata": {},
   "source": [
    "## 指定数据集信息"
   ]
  },
  {
   "cell_type": "code",
   "execution_count": 11,
   "id": "30a7e9be-197e-4a5a-af0b-c54226edf48d",
   "metadata": {
    "ExecuteTime": {
     "end_time": "2023-09-26T15:30:01.027231100Z",
     "start_time": "2023-09-26T15:30:01.021374400Z"
    }
   },
   "outputs": [],
   "source": [
    "Dataset_root = 'target_dataset'"
   ]
  },
  {
   "cell_type": "code",
   "execution_count": 12,
   "id": "79463161-8aa7-4980-8539-9539b7af3fdf",
   "metadata": {
    "ExecuteTime": {
     "end_time": "2023-09-26T15:30:03.893264300Z",
     "start_time": "2023-09-26T15:30:03.888994400Z"
    }
   },
   "outputs": [],
   "source": [
    "classes = {\n",
    "    't_blue':0,\n",
    "    't_green':1,\n",
    "    't_red':2,\n",
    "}"
   ]
  },
  {
   "cell_type": "markdown",
   "id": "67489bb1-f015-411d-983e-541651fd1af4",
   "metadata": {},
   "source": [
    "## 生成`classes.txt`文件"
   ]
  },
  {
   "cell_type": "code",
   "execution_count": 13,
   "id": "0dd3df94-953b-4025-9965-1a749fcbb83b",
   "metadata": {
    "ExecuteTime": {
     "end_time": "2023-09-26T15:30:06.610440400Z",
     "start_time": "2023-09-26T15:30:06.603538100Z"
    }
   },
   "outputs": [],
   "source": [
    "os.chdir(Dataset_root)"
   ]
  },
  {
   "cell_type": "code",
   "execution_count": 14,
   "id": "9bae1131-1409-4a33-b408-e2a6c7c119ab",
   "metadata": {
    "ExecuteTime": {
     "end_time": "2023-09-26T15:30:10.284495700Z",
     "start_time": "2023-09-26T15:30:10.280286600Z"
    }
   },
   "outputs": [],
   "source": [
    "with open('classes.txt', 'w', encoding='utf-8') as f:\n",
    "    for each in list(classes.keys()):\n",
    "        f.write(each + '\\n')"
   ]
  },
  {
   "cell_type": "code",
   "execution_count": 15,
   "id": "39640f9b-ed40-4bcd-8a62-cec29e95d64d",
   "metadata": {
    "ExecuteTime": {
     "end_time": "2023-09-26T15:30:10.827812300Z",
     "start_time": "2023-09-26T15:30:10.817752Z"
    }
   },
   "outputs": [],
   "source": [
    "os.mkdir('labels')\n",
    "os.mkdir('labels/train')\n",
    "os.mkdir('labels/val')"
   ]
  },
  {
   "cell_type": "markdown",
   "id": "404c8abc-20d7-491c-a24c-c74d790f56c5",
   "metadata": {},
   "source": [
    "## 函数-处理单个labelme标注json文件"
   ]
  },
  {
   "cell_type": "code",
   "execution_count": 16,
   "id": "5434a38c-7e2d-44c6-9eb4-eafa1c3e0cd6",
   "metadata": {
    "ExecuteTime": {
     "end_time": "2023-09-26T15:30:13.297565100Z",
     "start_time": "2023-09-26T15:30:13.294280600Z"
    }
   },
   "outputs": [],
   "source": [
    "def process_single_json(labelme_path, save_folder='../../labels/train'):\n",
    "    \n",
    "    # 载入 labelme格式的 json 标注文件\n",
    "    with open(labelme_path, 'r', encoding='utf-8') as f:\n",
    "        labelme = json.load(f)\n",
    "        \n",
    "    img_width = labelme['imageWidth']   # 图像宽度\n",
    "    img_height = labelme['imageHeight'] # 图像高度\n",
    "    \n",
    "    # 生成 YOLO 格式的 txt 文件\n",
    "    suffix = labelme_path.split('.')[-2]\n",
    "    yolo_txt_path = suffix + '.txt'\n",
    "    \n",
    "    with open(yolo_txt_path, 'w', encoding='utf-8') as f:\n",
    "        for each_ann in labelme['shapes']: # 遍历每个框\n",
    "\n",
    "            if each_ann['shape_type'] == 'rectangle': # 筛选出框\n",
    "\n",
    "                # 获取类别 ID\n",
    "                bbox_class_id = classes[each_ann['label']]\n",
    "\n",
    "                # 左上角和右下角的 XY 像素坐标\n",
    "                bbox_top_left_x = int(min(each_ann['points'][0][0], each_ann['points'][1][0]))\n",
    "                bbox_bottom_right_x = int(max(each_ann['points'][0][0], each_ann['points'][1][0]))\n",
    "                bbox_top_left_y = int(min(each_ann['points'][0][1], each_ann['points'][1][1]))\n",
    "                bbox_bottom_right_y = int(max(each_ann['points'][0][1], each_ann['points'][1][1]))\n",
    "\n",
    "                # 框中心点的 XY 像素坐标\n",
    "                bbox_center_x = int((bbox_top_left_x + bbox_bottom_right_x) / 2)\n",
    "                bbox_center_y = int((bbox_top_left_y + bbox_bottom_right_y) / 2)\n",
    "\n",
    "                # 框宽度\n",
    "                bbox_width = bbox_bottom_right_x - bbox_top_left_x\n",
    "\n",
    "                # 框高度\n",
    "                bbox_height = bbox_bottom_right_y - bbox_top_left_y\n",
    "\n",
    "                # 框中心点归一化坐标\n",
    "                bbox_center_x_norm = bbox_center_x / img_width\n",
    "                bbox_center_y_norm = bbox_center_y / img_height\n",
    "\n",
    "                # 框归一化宽度\n",
    "                bbox_width_norm = bbox_width / img_width\n",
    "                # 框归一化高度\n",
    "                bbox_height_norm = bbox_height / img_height\n",
    "\n",
    "                # 生成 YOLO 格式的一行标注，指定保留小数点后几位\n",
    "                bbox_yolo_str = '{} {:.4f} {:.4f} {:.4f} {:.4f}'.format(bbox_class_id, bbox_center_x_norm, bbox_center_y_norm, bbox_width_norm, bbox_height_norm)\n",
    "                # 写入 txt 文件中\n",
    "                f.write(bbox_yolo_str + '\\n')\n",
    "\n",
    "    shutil.move(yolo_txt_path, save_folder)\n",
    "    print('{} --> {} 转换完成'.format(labelme_path, yolo_txt_path))"
   ]
  },
  {
   "cell_type": "markdown",
   "id": "8db18e73-840b-4075-bdb0-b818679ece19",
   "metadata": {},
   "source": [
    "## 转换训练集标注文件至`labels/train`目录"
   ]
  },
  {
   "cell_type": "code",
   "execution_count": 17,
   "id": "06c90b4d-cc48-4424-9795-74467d1f3e58",
   "metadata": {
    "ExecuteTime": {
     "end_time": "2023-09-26T15:30:17.740417200Z",
     "start_time": "2023-09-26T15:30:17.733759300Z"
    }
   },
   "outputs": [],
   "source": [
    "os.chdir('labelme_jsons/train')"
   ]
  },
  {
   "cell_type": "code",
   "execution_count": 18,
   "id": "166948af-0194-46ad-98c2-9cc4f6771cb1",
   "metadata": {
    "ExecuteTime": {
     "end_time": "2023-09-26T15:30:20.827496700Z",
     "start_time": "2023-09-26T15:30:20.603850500Z"
    }
   },
   "outputs": [
    {
     "name": "stdout",
     "output_type": "stream",
     "text": [
      "0.json --> 0.txt 转换完成\n",
      "1.json --> 1.txt 转换完成\n",
      "100.json --> 100.txt 转换完成\n",
      "101.json --> 101.txt 转换完成\n",
      "102.json --> 102.txt 转换完成\n",
      "103.json --> 103.txt 转换完成\n",
      "104.json --> 104.txt 转换完成\n",
      "105.json --> 105.txt 转换完成\n",
      "107.json --> 107.txt 转换完成\n",
      "108.json --> 108.txt 转换完成\n",
      "109.json --> 109.txt 转换完成\n",
      "11.json --> 11.txt 转换完成\n",
      "110.json --> 110.txt 转换完成\n",
      "111.json --> 111.txt 转换完成\n",
      "112.json --> 112.txt 转换完成\n",
      "113.json --> 113.txt 转换完成\n",
      "114.json --> 114.txt 转换完成\n",
      "115.json --> 115.txt 转换完成\n",
      "116.json --> 116.txt 转换完成\n",
      "117.json --> 117.txt 转换完成\n",
      "118.json --> 118.txt 转换完成\n",
      "119.json --> 119.txt 转换完成\n",
      "121.json --> 121.txt 转换完成\n",
      "122.json --> 122.txt 转换完成\n",
      "123.json --> 123.txt 转换完成\n",
      "124.json --> 124.txt 转换完成\n",
      "125.json --> 125.txt 转换完成\n",
      "126.json --> 126.txt 转换完成\n",
      "127.json --> 127.txt 转换完成\n",
      "128.json --> 128.txt 转换完成\n",
      "129.json --> 129.txt 转换完成\n",
      "13.json --> 13.txt 转换完成\n",
      "130.json --> 130.txt 转换完成\n",
      "131.json --> 131.txt 转换完成\n",
      "134.json --> 134.txt 转换完成\n",
      "135.json --> 135.txt 转换完成\n",
      "136.json --> 136.txt 转换完成\n",
      "138.json --> 138.txt 转换完成\n",
      "139.json --> 139.txt 转换完成\n",
      "14.json --> 14.txt 转换完成\n",
      "140.json --> 140.txt 转换完成\n",
      "142.json --> 142.txt 转换完成\n",
      "143.json --> 143.txt 转换完成\n",
      "144.json --> 144.txt 转换完成\n",
      "145.json --> 145.txt 转换完成\n",
      "146.json --> 146.txt 转换完成\n",
      "147.json --> 147.txt 转换完成\n",
      "148.json --> 148.txt 转换完成\n",
      "15.json --> 15.txt 转换完成\n",
      "151.json --> 151.txt 转换完成\n",
      "152.json --> 152.txt 转换完成\n",
      "153.json --> 153.txt 转换完成\n",
      "154.json --> 154.txt 转换完成\n",
      "155.json --> 155.txt 转换完成\n",
      "156.json --> 156.txt 转换完成\n",
      "157.json --> 157.txt 转换完成\n",
      "159.json --> 159.txt 转换完成\n",
      "16.json --> 16.txt 转换完成\n",
      "160.json --> 160.txt 转换完成\n",
      "161.json --> 161.txt 转换完成\n",
      "163.json --> 163.txt 转换完成\n",
      "164.json --> 164.txt 转换完成\n",
      "165.json --> 165.txt 转换完成\n",
      "166.json --> 166.txt 转换完成\n",
      "167.json --> 167.txt 转换完成\n",
      "168.json --> 168.txt 转换完成\n",
      "169.json --> 169.txt 转换完成\n",
      "170.json --> 170.txt 转换完成\n",
      "171.json --> 171.txt 转换完成\n",
      "172.json --> 172.txt 转换完成\n",
      "173.json --> 173.txt 转换完成\n",
      "175.json --> 175.txt 转换完成\n",
      "176.json --> 176.txt 转换完成\n",
      "177.json --> 177.txt 转换完成\n",
      "178.json --> 178.txt 转换完成\n",
      "18.json --> 18.txt 转换完成\n",
      "180.json --> 180.txt 转换完成\n",
      "181.json --> 181.txt 转换完成\n",
      "182.json --> 182.txt 转换完成\n",
      "183.json --> 183.txt 转换完成\n",
      "185.json --> 185.txt 转换完成\n",
      "186.json --> 186.txt 转换完成\n",
      "187.json --> 187.txt 转换完成\n",
      "188.json --> 188.txt 转换完成\n",
      "19.json --> 19.txt 转换完成\n",
      "193.json --> 193.txt 转换完成\n",
      "194.json --> 194.txt 转换完成\n",
      "195.json --> 195.txt 转换完成\n",
      "197.json --> 197.txt 转换完成\n",
      "198.json --> 198.txt 转换完成\n",
      "199.json --> 199.txt 转换完成\n",
      "2.json --> 2.txt 转换完成\n",
      "20.json --> 20.txt 转换完成\n",
      "200.json --> 200.txt 转换完成\n",
      "202.json --> 202.txt 转换完成\n",
      "203.json --> 203.txt 转换完成\n",
      "204.json --> 204.txt 转换完成\n",
      "205.json --> 205.txt 转换完成\n",
      "206.json --> 206.txt 转换完成\n",
      "208.json --> 208.txt 转换完成\n",
      "209.json --> 209.txt 转换完成\n",
      "21.json --> 21.txt 转换完成\n",
      "210.json --> 210.txt 转换完成\n",
      "211.json --> 211.txt 转换完成\n",
      "212.json --> 212.txt 转换完成\n",
      "213.json --> 213.txt 转换完成\n",
      "214.json --> 214.txt 转换完成\n",
      "216.json --> 216.txt 转换完成\n",
      "217.json --> 217.txt 转换完成\n",
      "219.json --> 219.txt 转换完成\n",
      "22.json --> 22.txt 转换完成\n",
      "220.json --> 220.txt 转换完成\n",
      "221.json --> 221.txt 转换完成\n",
      "223.json --> 223.txt 转换完成\n",
      "224.json --> 224.txt 转换完成\n",
      "225.json --> 225.txt 转换完成\n",
      "227.json --> 227.txt 转换完成\n",
      "228.json --> 228.txt 转换完成\n",
      "229.json --> 229.txt 转换完成\n",
      "23.json --> 23.txt 转换完成\n",
      "230.json --> 230.txt 转换完成\n",
      "232.json --> 232.txt 转换完成\n",
      "233.json --> 233.txt 转换完成\n",
      "234.json --> 234.txt 转换完成\n",
      "235.json --> 235.txt 转换完成\n",
      "236.json --> 236.txt 转换完成\n",
      "237.json --> 237.txt 转换完成\n",
      "238.json --> 238.txt 转换完成\n",
      "239.json --> 239.txt 转换完成\n",
      "240.json --> 240.txt 转换完成\n",
      "242.json --> 242.txt 转换完成\n",
      "243.json --> 243.txt 转换完成\n",
      "244.json --> 244.txt 转换完成\n",
      "247.json --> 247.txt 转换完成\n",
      "248.json --> 248.txt 转换完成\n",
      "249.json --> 249.txt 转换完成\n",
      "25.json --> 25.txt 转换完成\n",
      "250.json --> 250.txt 转换完成\n",
      "251.json --> 251.txt 转换完成\n",
      "252.json --> 252.txt 转换完成\n",
      "253.json --> 253.txt 转换完成\n",
      "254.json --> 254.txt 转换完成\n",
      "255.json --> 255.txt 转换完成\n",
      "256.json --> 256.txt 转换完成\n",
      "257.json --> 257.txt 转换完成\n",
      "259.json --> 259.txt 转换完成\n",
      "260.json --> 260.txt 转换完成\n",
      "261.json --> 261.txt 转换完成\n",
      "262.json --> 262.txt 转换完成\n",
      "263.json --> 263.txt 转换完成\n",
      "264.json --> 264.txt 转换完成\n",
      "265.json --> 265.txt 转换完成\n",
      "266.json --> 266.txt 转换完成\n",
      "267.json --> 267.txt 转换完成\n",
      "268.json --> 268.txt 转换完成\n",
      "27.json --> 27.txt 转换完成\n",
      "270.json --> 270.txt 转换完成\n",
      "272.json --> 272.txt 转换完成\n",
      "273.json --> 273.txt 转换完成\n",
      "276.json --> 276.txt 转换完成\n",
      "277.json --> 277.txt 转换完成\n",
      "278.json --> 278.txt 转换完成\n",
      "279.json --> 279.txt 转换完成\n",
      "28.json --> 28.txt 转换完成\n",
      "281.json --> 281.txt 转换完成\n",
      "284.json --> 284.txt 转换完成\n",
      "285.json --> 285.txt 转换完成\n",
      "286.json --> 286.txt 转换完成\n",
      "287.json --> 287.txt 转换完成\n",
      "288.json --> 288.txt 转换完成\n",
      "289.json --> 289.txt 转换完成\n",
      "29.json --> 29.txt 转换完成\n",
      "291.json --> 291.txt 转换完成\n",
      "292.json --> 292.txt 转换完成\n",
      "293.json --> 293.txt 转换完成\n",
      "295.json --> 295.txt 转换完成\n",
      "296.json --> 296.txt 转换完成\n",
      "297.json --> 297.txt 转换完成\n",
      "298.json --> 298.txt 转换完成\n",
      "299.json --> 299.txt 转换完成\n",
      "3.json --> 3.txt 转换完成\n",
      "30.json --> 30.txt 转换完成\n",
      "300.json --> 300.txt 转换完成\n",
      "301.json --> 301.txt 转换完成\n",
      "302.json --> 302.txt 转换完成\n",
      "303.json --> 303.txt 转换完成\n",
      "304.json --> 304.txt 转换完成\n",
      "305.json --> 305.txt 转换完成\n",
      "306.json --> 306.txt 转换完成\n",
      "307.json --> 307.txt 转换完成\n",
      "308.json --> 308.txt 转换完成\n",
      "310.json --> 310.txt 转换完成\n",
      "312.json --> 312.txt 转换完成\n",
      "313.json --> 313.txt 转换完成\n",
      "314.json --> 314.txt 转换完成\n",
      "315.json --> 315.txt 转换完成\n",
      "317.json --> 317.txt 转换完成\n",
      "318.json --> 318.txt 转换完成\n",
      "319.json --> 319.txt 转换完成\n",
      "32.json --> 32.txt 转换完成\n",
      "320.json --> 320.txt 转换完成\n",
      "321.json --> 321.txt 转换完成\n",
      "322.json --> 322.txt 转换完成\n",
      "323.json --> 323.txt 转换完成\n",
      "324.json --> 324.txt 转换完成\n",
      "325.json --> 325.txt 转换完成\n",
      "326.json --> 326.txt 转换完成\n",
      "328.json --> 328.txt 转换完成\n",
      "329.json --> 329.txt 转换完成\n",
      "330.json --> 330.txt 转换完成\n",
      "332.json --> 332.txt 转换完成\n",
      "333.json --> 333.txt 转换完成\n",
      "334.json --> 334.txt 转换完成\n",
      "335.json --> 335.txt 转换完成\n",
      "336.json --> 336.txt 转换完成\n",
      "337.json --> 337.txt 转换完成\n",
      "338.json --> 338.txt 转换完成\n",
      "339.json --> 339.txt 转换完成\n",
      "340.json --> 340.txt 转换完成\n",
      "341.json --> 341.txt 转换完成\n",
      "343.json --> 343.txt 转换完成\n",
      "344.json --> 344.txt 转换完成\n",
      "345.json --> 345.txt 转换完成\n",
      "346.json --> 346.txt 转换完成\n",
      "347.json --> 347.txt 转换完成\n",
      "349.json --> 349.txt 转换完成\n",
      "35.json --> 35.txt 转换完成\n",
      "351.json --> 351.txt 转换完成\n",
      "352.json --> 352.txt 转换完成\n",
      "353.json --> 353.txt 转换完成\n",
      "354.json --> 354.txt 转换完成\n",
      "355.json --> 355.txt 转换完成\n",
      "356.json --> 356.txt 转换完成\n",
      "357.json --> 357.txt 转换完成\n",
      "359.json --> 359.txt 转换完成\n",
      "36.json --> 36.txt 转换完成\n",
      "361.json --> 361.txt 转换完成\n",
      "362.json --> 362.txt 转换完成\n",
      "363.json --> 363.txt 转换完成\n",
      "364.json --> 364.txt 转换完成\n",
      "365.json --> 365.txt 转换完成\n",
      "366.json --> 366.txt 转换完成\n",
      "367.json --> 367.txt 转换完成\n",
      "368.json --> 368.txt 转换完成\n",
      "369.json --> 369.txt 转换完成\n",
      "37.json --> 37.txt 转换完成\n",
      "372.json --> 372.txt 转换完成\n",
      "373.json --> 373.txt 转换完成\n",
      "378.json --> 378.txt 转换完成\n",
      "379.json --> 379.txt 转换完成\n",
      "380.json --> 380.txt 转换完成\n",
      "382.json --> 382.txt 转换完成\n",
      "383.json --> 383.txt 转换完成\n",
      "384.json --> 384.txt 转换完成\n",
      "385.json --> 385.txt 转换完成\n",
      "387.json --> 387.txt 转换完成\n",
      "388.json --> 388.txt 转换完成\n",
      "389.json --> 389.txt 转换完成\n",
      "39.json --> 39.txt 转换完成\n",
      "391.json --> 391.txt 转换完成\n",
      "392.json --> 392.txt 转换完成\n",
      "393.json --> 393.txt 转换完成\n",
      "394.json --> 394.txt 转换完成\n",
      "395.json --> 395.txt 转换完成\n",
      "396.json --> 396.txt 转换完成\n",
      "397.json --> 397.txt 转换完成\n",
      "398.json --> 398.txt 转换完成\n",
      "399.json --> 399.txt 转换完成\n",
      "4.json --> 4.txt 转换完成\n",
      "400.json --> 400.txt 转换完成\n",
      "402.json --> 402.txt 转换完成\n",
      "403.json --> 403.txt 转换完成\n",
      "404.json --> 404.txt 转换完成\n",
      "405.json --> 405.txt 转换完成\n",
      "406.json --> 406.txt 转换完成\n",
      "409.json --> 409.txt 转换完成\n",
      "41.json --> 41.txt 转换完成\n",
      "410.json --> 410.txt 转换完成\n",
      "411.json --> 411.txt 转换完成\n",
      "412.json --> 412.txt 转换完成\n",
      "413.json --> 413.txt 转换完成\n",
      "414.json --> 414.txt 转换完成\n",
      "415.json --> 415.txt 转换完成\n",
      "416.json --> 416.txt 转换完成\n",
      "418.json --> 418.txt 转换完成\n",
      "419.json --> 419.txt 转换完成\n",
      "42.json --> 42.txt 转换完成\n",
      "420.json --> 420.txt 转换完成\n",
      "421.json --> 421.txt 转换完成\n",
      "422.json --> 422.txt 转换完成\n",
      "423.json --> 423.txt 转换完成\n",
      "425.json --> 425.txt 转换完成\n",
      "426.json --> 426.txt 转换完成\n",
      "427.json --> 427.txt 转换完成\n",
      "428.json --> 428.txt 转换完成\n",
      "429.json --> 429.txt 转换完成\n",
      "43.json --> 43.txt 转换完成\n",
      "431.json --> 431.txt 转换完成\n",
      "432.json --> 432.txt 转换完成\n",
      "434.json --> 434.txt 转换完成\n",
      "435.json --> 435.txt 转换完成\n",
      "437.json --> 437.txt 转换完成\n",
      "438.json --> 438.txt 转换完成\n",
      "439.json --> 439.txt 转换完成\n",
      "44.json --> 44.txt 转换完成\n",
      "441.json --> 441.txt 转换完成\n",
      "443.json --> 443.txt 转换完成\n",
      "445.json --> 445.txt 转换完成\n",
      "446.json --> 446.txt 转换完成\n",
      "447.json --> 447.txt 转换完成\n",
      "449.json --> 449.txt 转换完成\n",
      "47.json --> 47.txt 转换完成\n",
      "48.json --> 48.txt 转换完成\n",
      "49.json --> 49.txt 转换完成\n",
      "50.json --> 50.txt 转换完成\n",
      "51.json --> 51.txt 转换完成\n",
      "52.json --> 52.txt 转换完成\n",
      "53.json --> 53.txt 转换完成\n",
      "54.json --> 54.txt 转换完成\n",
      "55.json --> 55.txt 转换完成\n",
      "56.json --> 56.txt 转换完成\n",
      "58.json --> 58.txt 转换完成\n",
      "59.json --> 59.txt 转换完成\n",
      "6.json --> 6.txt 转换完成\n",
      "60.json --> 60.txt 转换完成\n",
      "61.json --> 61.txt 转换完成\n",
      "62.json --> 62.txt 转换完成\n",
      "63.json --> 63.txt 转换完成\n",
      "65.json --> 65.txt 转换完成\n",
      "66.json --> 66.txt 转换完成\n",
      "67.json --> 67.txt 转换完成\n",
      "68.json --> 68.txt 转换完成\n",
      "69.json --> 69.txt 转换完成\n",
      "7.json --> 7.txt 转换完成\n",
      "70.json --> 70.txt 转换完成\n",
      "73.json --> 73.txt 转换完成\n",
      "74.json --> 74.txt 转换完成\n",
      "75.json --> 75.txt 转换完成\n",
      "76.json --> 76.txt 转换完成\n",
      "77.json --> 77.txt 转换完成\n",
      "78.json --> 78.txt 转换完成\n",
      "79.json --> 79.txt 转换完成\n",
      "80.json --> 80.txt 转换完成\n",
      "82.json --> 82.txt 转换完成\n",
      "83.json --> 83.txt 转换完成\n",
      "84.json --> 84.txt 转换完成\n",
      "85.json --> 85.txt 转换完成\n",
      "87.json --> 87.txt 转换完成\n",
      "88.json --> 88.txt 转换完成\n",
      "89.json --> 89.txt 转换完成\n",
      "9.json --> 9.txt 转换完成\n",
      "90.json --> 90.txt 转换完成\n",
      "92.json --> 92.txt 转换完成\n",
      "93.json --> 93.txt 转换完成\n",
      "94.json --> 94.txt 转换完成\n",
      "95.json --> 95.txt 转换完成\n",
      "96.json --> 96.txt 转换完成\n",
      "97.json --> 97.txt 转换完成\n",
      "98.json --> 98.txt 转换完成\n",
      "99.json --> 99.txt 转换完成\n",
      "YOLO格式的txt标注文件已保存至  ../../labels/train\n"
     ]
    }
   ],
   "source": [
    "save_folder = '../../labels/train'\n",
    "for labelme_path in os.listdir():\n",
    "    process_single_json(labelme_path, save_folder=save_folder)\n",
    "print('YOLO格式的txt标注文件已保存至 ', save_folder)"
   ]
  },
  {
   "cell_type": "code",
   "execution_count": 19,
   "id": "5ed297c2-e715-42c9-80ab-fd9e886c3385",
   "metadata": {
    "ExecuteTime": {
     "end_time": "2023-09-26T15:30:30.620542700Z",
     "start_time": "2023-09-26T15:30:30.615536600Z"
    }
   },
   "outputs": [],
   "source": [
    "os.chdir('../../')"
   ]
  },
  {
   "cell_type": "markdown",
   "id": "82a4746c-8980-4763-b8b5-86b398f12b96",
   "metadata": {},
   "source": [
    "## 转换测试集标注文件至`labels/val`目录"
   ]
  },
  {
   "cell_type": "code",
   "execution_count": 20,
   "id": "46914ef6-f6a7-43a3-8270-0c5e40300c1f",
   "metadata": {
    "ExecuteTime": {
     "end_time": "2023-09-26T15:30:32.151258500Z",
     "start_time": "2023-09-26T15:30:32.130047200Z"
    }
   },
   "outputs": [],
   "source": [
    "os.chdir('labelme_jsons/val')"
   ]
  },
  {
   "cell_type": "code",
   "execution_count": 21,
   "id": "20a6ca8c-e004-46d3-abdf-b786ba9fcea2",
   "metadata": {
    "ExecuteTime": {
     "end_time": "2023-09-26T15:30:34.019816400Z",
     "start_time": "2023-09-26T15:30:33.962423100Z"
    }
   },
   "outputs": [
    {
     "name": "stdout",
     "output_type": "stream",
     "text": [
      "10.json --> 10.txt 转换完成\n",
      "106.json --> 106.txt 转换完成\n",
      "12.json --> 12.txt 转换完成\n",
      "120.json --> 120.txt 转换完成\n",
      "132.json --> 132.txt 转换完成\n",
      "133.json --> 133.txt 转换完成\n",
      "137.json --> 137.txt 转换完成\n",
      "141.json --> 141.txt 转换完成\n",
      "149.json --> 149.txt 转换完成\n",
      "150.json --> 150.txt 转换完成\n",
      "158.json --> 158.txt 转换完成\n",
      "162.json --> 162.txt 转换完成\n",
      "17.json --> 17.txt 转换完成\n",
      "174.json --> 174.txt 转换完成\n",
      "179.json --> 179.txt 转换完成\n",
      "184.json --> 184.txt 转换完成\n",
      "189.json --> 189.txt 转换完成\n",
      "190.json --> 190.txt 转换完成\n",
      "191.json --> 191.txt 转换完成\n",
      "192.json --> 192.txt 转换完成\n",
      "196.json --> 196.txt 转换完成\n",
      "201.json --> 201.txt 转换完成\n",
      "207.json --> 207.txt 转换完成\n",
      "215.json --> 215.txt 转换完成\n",
      "218.json --> 218.txt 转换完成\n",
      "222.json --> 222.txt 转换完成\n",
      "226.json --> 226.txt 转换完成\n",
      "231.json --> 231.txt 转换完成\n",
      "24.json --> 24.txt 转换完成\n",
      "241.json --> 241.txt 转换完成\n",
      "245.json --> 245.txt 转换完成\n",
      "246.json --> 246.txt 转换完成\n",
      "258.json --> 258.txt 转换完成\n",
      "26.json --> 26.txt 转换完成\n",
      "269.json --> 269.txt 转换完成\n",
      "271.json --> 271.txt 转换完成\n",
      "274.json --> 274.txt 转换完成\n",
      "275.json --> 275.txt 转换完成\n",
      "280.json --> 280.txt 转换完成\n",
      "282.json --> 282.txt 转换完成\n",
      "283.json --> 283.txt 转换完成\n",
      "290.json --> 290.txt 转换完成\n",
      "294.json --> 294.txt 转换完成\n",
      "309.json --> 309.txt 转换完成\n",
      "31.json --> 31.txt 转换完成\n",
      "311.json --> 311.txt 转换完成\n",
      "316.json --> 316.txt 转换完成\n",
      "327.json --> 327.txt 转换完成\n",
      "33.json --> 33.txt 转换完成\n",
      "331.json --> 331.txt 转换完成\n",
      "34.json --> 34.txt 转换完成\n",
      "342.json --> 342.txt 转换完成\n",
      "348.json --> 348.txt 转换完成\n",
      "350.json --> 350.txt 转换完成\n",
      "358.json --> 358.txt 转换完成\n",
      "360.json --> 360.txt 转换完成\n",
      "370.json --> 370.txt 转换完成\n",
      "371.json --> 371.txt 转换完成\n",
      "374.json --> 374.txt 转换完成\n",
      "375.json --> 375.txt 转换完成\n",
      "376.json --> 376.txt 转换完成\n",
      "377.json --> 377.txt 转换完成\n",
      "38.json --> 38.txt 转换完成\n",
      "381.json --> 381.txt 转换完成\n",
      "386.json --> 386.txt 转换完成\n",
      "390.json --> 390.txt 转换完成\n",
      "40.json --> 40.txt 转换完成\n",
      "401.json --> 401.txt 转换完成\n",
      "407.json --> 407.txt 转换完成\n",
      "408.json --> 408.txt 转换完成\n",
      "417.json --> 417.txt 转换完成\n",
      "424.json --> 424.txt 转换完成\n",
      "430.json --> 430.txt 转换完成\n",
      "433.json --> 433.txt 转换完成\n",
      "436.json --> 436.txt 转换完成\n",
      "440.json --> 440.txt 转换完成\n",
      "442.json --> 442.txt 转换完成\n",
      "444.json --> 444.txt 转换完成\n",
      "448.json --> 448.txt 转换完成\n",
      "45.json --> 45.txt 转换完成\n",
      "46.json --> 46.txt 转换完成\n",
      "5.json --> 5.txt 转换完成\n",
      "57.json --> 57.txt 转换完成\n",
      "64.json --> 64.txt 转换完成\n",
      "71.json --> 71.txt 转换完成\n",
      "72.json --> 72.txt 转换完成\n",
      "8.json --> 8.txt 转换完成\n",
      "81.json --> 81.txt 转换完成\n",
      "86.json --> 86.txt 转换完成\n",
      "91.json --> 91.txt 转换完成\n",
      "YOLO格式的txt标注文件已保存至  ../../labels/val\n"
     ]
    }
   ],
   "source": [
    "save_folder = '../../labels/val'\n",
    "for labelme_path in os.listdir():\n",
    "    process_single_json(labelme_path, save_folder=save_folder)\n",
    "print('YOLO格式的txt标注文件已保存至 ', save_folder)"
   ]
  },
  {
   "cell_type": "code",
   "execution_count": 22,
   "id": "6874920e-c01d-4ff3-8e05-2462669000cb",
   "metadata": {
    "ExecuteTime": {
     "end_time": "2023-09-26T15:30:35.220406900Z",
     "start_time": "2023-09-26T15:30:35.215854200Z"
    }
   },
   "outputs": [],
   "source": [
    "os.chdir('../../')"
   ]
  },
  {
   "cell_type": "markdown",
   "id": "02d14035-e745-403e-8519-241c9f05deaa",
   "metadata": {},
   "source": [
    "## 删除labelme格式的标注文件"
   ]
  },
  {
   "cell_type": "code",
   "execution_count": 23,
   "id": "9eb2bf84-99a6-42d5-b636-d10380b1018d",
   "metadata": {},
   "outputs": [],
   "source": [
    "!rm -rf labelme_jsons"
   ]
  },
  {
   "cell_type": "markdown",
   "id": "67efa3f5-8eac-4830-868c-a8b650211546",
   "metadata": {
    "tags": []
   },
   "source": [
    "## 删除系统自动生成的多余文件"
   ]
  },
  {
   "cell_type": "markdown",
   "id": "eee7b8d7-a04f-4f12-81b8-09f17cf855b2",
   "metadata": {},
   "source": [
    "### 查看待删除的多余文件"
   ]
  },
  {
   "cell_type": "code",
   "execution_count": 33,
   "id": "1fd91717-f871-46ea-ae4b-17310320aad4",
   "metadata": {},
   "outputs": [],
   "source": [
    "!find . -iname '__MACOSX'"
   ]
  },
  {
   "cell_type": "code",
   "execution_count": 34,
   "id": "a3949cdb-77f4-4caa-a41b-20bc2f7de3e0",
   "metadata": {},
   "outputs": [],
   "source": [
    "!find . -iname '.DS_Store'"
   ]
  },
  {
   "cell_type": "code",
   "execution_count": 35,
   "id": "ed8d61b9-4d8c-4e10-acdf-4d988a8a222d",
   "metadata": {},
   "outputs": [],
   "source": [
    "!find . -iname '.ipynb_checkpoints'"
   ]
  },
  {
   "cell_type": "markdown",
   "id": "811a56c6-6f55-4bc9-8931-052ea77b42d1",
   "metadata": {},
   "source": [
    "### 删除多余文件"
   ]
  },
  {
   "cell_type": "code",
   "execution_count": 36,
   "id": "c1fa80b5-8aad-4cf4-b35a-93dc7f73c7bd",
   "metadata": {},
   "outputs": [],
   "source": [
    "!for i in `find . -iname '__MACOSX'`; do rm -rf $i;done"
   ]
  },
  {
   "cell_type": "code",
   "execution_count": 37,
   "id": "b1155953-ca52-4308-ad72-8a4b6b845649",
   "metadata": {},
   "outputs": [],
   "source": [
    "!for i in `find . -iname '.DS_Store'`; do rm -rf $i;done"
   ]
  },
  {
   "cell_type": "code",
   "execution_count": 38,
   "id": "7fbcd3d4-0b45-4783-96dd-c7c3ed5d4906",
   "metadata": {},
   "outputs": [],
   "source": [
    "!for i in `find . -iname '.ipynb_checkpoints'`; do rm -rf $i;done"
   ]
  },
  {
   "cell_type": "markdown",
   "id": "d02b9016-5699-457a-80d2-5d7ef7540fd1",
   "metadata": {},
   "source": [
    "### 验证多余文件已删除"
   ]
  },
  {
   "cell_type": "code",
   "execution_count": 39,
   "id": "8ff22d29-4343-4c57-938f-b023595e026d",
   "metadata": {},
   "outputs": [],
   "source": [
    "!find . -iname '__MACOSX'"
   ]
  },
  {
   "cell_type": "code",
   "execution_count": 40,
   "id": "87831673-8a64-411e-888d-a2694b00a8da",
   "metadata": {},
   "outputs": [],
   "source": [
    "!find . -iname '.DS_Store'"
   ]
  },
  {
   "cell_type": "code",
   "execution_count": 41,
   "id": "6c6b5580-5250-4ad0-aff9-8bcb8097dfd7",
   "metadata": {},
   "outputs": [],
   "source": [
    "!find . -iname '.ipynb_checkpoints'"
   ]
  },
  {
   "cell_type": "markdown",
   "id": "761e509a-6b5a-4721-ae09-f8254f152d05",
   "metadata": {},
   "source": [
    "## 得到完整的YOLO格式数据集"
   ]
  },
  {
   "cell_type": "code",
   "execution_count": null,
   "id": "77c362f0-fbe0-405e-a6a0-316099da5bf9",
   "metadata": {},
   "outputs": [],
   "source": []
  }
 ],
 "metadata": {
  "kernelspec": {
   "display_name": "Python 3 (ipykernel)",
   "language": "python",
   "name": "python3"
  },
  "language_info": {
   "codemirror_mode": {
    "name": "ipython",
    "version": 3
   },
   "file_extension": ".py",
   "mimetype": "text/x-python",
   "name": "python",
   "nbconvert_exporter": "python",
   "pygments_lexer": "ipython3",
   "version": "3.11.2"
  }
 },
 "nbformat": 4,
 "nbformat_minor": 5
}
