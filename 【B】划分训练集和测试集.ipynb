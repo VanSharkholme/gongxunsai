{
 "cells": [
  {
   "cell_type": "markdown",
   "id": "947c906f-136a-4f3c-9345-c57f0ed34124",
   "metadata": {},
   "source": [
    "# 划分训练集和测试集\n",
    "\n",
    "张子豪 2023-2-22"
   ]
  },
  {
   "cell_type": "code",
   "execution_count": 1,
   "id": "11c7d96b-19a4-4236-bf1f-2977f2dcba99",
   "metadata": {
    "ExecuteTime": {
     "end_time": "2023-09-26T15:27:37.961930600Z",
     "start_time": "2023-09-26T15:27:37.948841800Z"
    }
   },
   "outputs": [],
   "source": [
    "import os\n",
    "import shutil\n",
    "import random\n",
    "from tqdm import tqdm"
   ]
  },
  {
   "cell_type": "code",
   "execution_count": 2,
   "id": "23aeda88-1d70-40ca-b895-6f57a84dda58",
   "metadata": {
    "ExecuteTime": {
     "end_time": "2023-09-26T15:27:40.574365100Z",
     "start_time": "2023-09-26T15:27:40.569971400Z"
    }
   },
   "outputs": [],
   "source": [
    "Dataset_root = 'target_dataset'"
   ]
  },
  {
   "cell_type": "code",
   "execution_count": 3,
   "id": "44330058-96ad-4898-8dd0-e358a5c30cf0",
   "metadata": {
    "ExecuteTime": {
     "end_time": "2023-09-26T15:27:42.613405900Z",
     "start_time": "2023-09-26T15:27:42.608922500Z"
    }
   },
   "outputs": [],
   "source": [
    "os.chdir(os.path.join(Dataset_root, 'images'))"
   ]
  },
  {
   "cell_type": "code",
   "execution_count": 4,
   "id": "ca2838dc-aca4-4822-ad1d-bb2fd771223a",
   "metadata": {
    "ExecuteTime": {
     "end_time": "2023-09-26T15:27:43.880978400Z",
     "start_time": "2023-09-26T15:27:43.856571500Z"
    }
   },
   "outputs": [
    {
     "data": {
      "text/plain": "['0.jpg',\n '1.jpg',\n '10.jpg',\n '100.jpg',\n '101.jpg',\n '102.jpg',\n '103.jpg',\n '104.jpg',\n '105.jpg',\n '106.jpg',\n '107.jpg',\n '108.jpg',\n '109.jpg',\n '11.jpg',\n '110.jpg',\n '111.jpg',\n '112.jpg',\n '113.jpg',\n '114.jpg',\n '115.jpg',\n '116.jpg',\n '117.jpg',\n '118.jpg',\n '119.jpg',\n '12.jpg',\n '120.jpg',\n '121.jpg',\n '122.jpg',\n '123.jpg',\n '124.jpg',\n '125.jpg',\n '126.jpg',\n '127.jpg',\n '128.jpg',\n '129.jpg',\n '13.jpg',\n '130.jpg',\n '131.jpg',\n '132.jpg',\n '133.jpg',\n '134.jpg',\n '135.jpg',\n '136.jpg',\n '137.jpg',\n '138.jpg',\n '139.jpg',\n '14.jpg',\n '140.jpg',\n '141.jpg',\n '142.jpg',\n '143.jpg',\n '144.jpg',\n '145.jpg',\n '146.jpg',\n '147.jpg',\n '148.jpg',\n '149.jpg',\n '15.jpg',\n '150.jpg',\n '151.jpg',\n '152.jpg',\n '153.jpg',\n '154.jpg',\n '155.jpg',\n '156.jpg',\n '157.jpg',\n '158.jpg',\n '159.jpg',\n '16.jpg',\n '160.jpg',\n '161.jpg',\n '162.jpg',\n '163.jpg',\n '164.jpg',\n '165.jpg',\n '166.jpg',\n '167.jpg',\n '168.jpg',\n '169.jpg',\n '17.jpg',\n '170.jpg',\n '171.jpg',\n '172.jpg',\n '173.jpg',\n '174.jpg',\n '175.jpg',\n '176.jpg',\n '177.jpg',\n '178.jpg',\n '179.jpg',\n '18.jpg',\n '180.jpg',\n '181.jpg',\n '182.jpg',\n '183.jpg',\n '184.jpg',\n '185.jpg',\n '186.jpg',\n '187.jpg',\n '188.jpg',\n '189.jpg',\n '19.jpg',\n '190.jpg',\n '191.jpg',\n '192.jpg',\n '193.jpg',\n '194.jpg',\n '195.jpg',\n '196.jpg',\n '197.jpg',\n '198.jpg',\n '199.jpg',\n '2.jpg',\n '20.jpg',\n '200.jpg',\n '201.jpg',\n '202.jpg',\n '203.jpg',\n '204.jpg',\n '205.jpg',\n '206.jpg',\n '207.jpg',\n '208.jpg',\n '209.jpg',\n '21.jpg',\n '210.jpg',\n '211.jpg',\n '212.jpg',\n '213.jpg',\n '214.jpg',\n '215.jpg',\n '216.jpg',\n '217.jpg',\n '218.jpg',\n '219.jpg',\n '22.jpg',\n '220.jpg',\n '221.jpg',\n '222.jpg',\n '223.jpg',\n '224.jpg',\n '225.jpg',\n '226.jpg',\n '227.jpg',\n '228.jpg',\n '229.jpg',\n '23.jpg',\n '230.jpg',\n '231.jpg',\n '232.jpg',\n '233.jpg',\n '234.jpg',\n '235.jpg',\n '236.jpg',\n '237.jpg',\n '238.jpg',\n '239.jpg',\n '24.jpg',\n '240.jpg',\n '241.jpg',\n '242.jpg',\n '243.jpg',\n '244.jpg',\n '245.jpg',\n '246.jpg',\n '247.jpg',\n '248.jpg',\n '249.jpg',\n '25.jpg',\n '250.jpg',\n '251.jpg',\n '252.jpg',\n '253.jpg',\n '254.jpg',\n '255.jpg',\n '256.jpg',\n '257.jpg',\n '258.jpg',\n '259.jpg',\n '26.jpg',\n '260.jpg',\n '261.jpg',\n '262.jpg',\n '263.jpg',\n '264.jpg',\n '265.jpg',\n '266.jpg',\n '267.jpg',\n '268.jpg',\n '269.jpg',\n '27.jpg',\n '270.jpg',\n '271.jpg',\n '272.jpg',\n '273.jpg',\n '274.jpg',\n '275.jpg',\n '276.jpg',\n '277.jpg',\n '278.jpg',\n '279.jpg',\n '28.jpg',\n '280.jpg',\n '281.jpg',\n '282.jpg',\n '283.jpg',\n '284.jpg',\n '285.jpg',\n '286.jpg',\n '287.jpg',\n '288.jpg',\n '289.jpg',\n '29.jpg',\n '290.jpg',\n '291.jpg',\n '292.jpg',\n '293.jpg',\n '294.jpg',\n '295.jpg',\n '296.jpg',\n '297.jpg',\n '298.jpg',\n '299.jpg',\n '3.jpg',\n '30.jpg',\n '300.jpg',\n '301.jpg',\n '302.jpg',\n '303.jpg',\n '304.jpg',\n '305.jpg',\n '306.jpg',\n '307.jpg',\n '308.jpg',\n '309.jpg',\n '31.jpg',\n '310.jpg',\n '311.jpg',\n '312.jpg',\n '313.jpg',\n '314.jpg',\n '315.jpg',\n '316.jpg',\n '317.jpg',\n '318.jpg',\n '319.jpg',\n '32.jpg',\n '320.jpg',\n '321.jpg',\n '322.jpg',\n '323.jpg',\n '324.jpg',\n '325.jpg',\n '326.jpg',\n '327.jpg',\n '328.jpg',\n '329.jpg',\n '33.jpg',\n '330.jpg',\n '331.jpg',\n '332.jpg',\n '333.jpg',\n '334.jpg',\n '335.jpg',\n '336.jpg',\n '337.jpg',\n '338.jpg',\n '339.jpg',\n '34.jpg',\n '340.jpg',\n '341.jpg',\n '342.jpg',\n '343.jpg',\n '344.jpg',\n '345.jpg',\n '346.jpg',\n '347.jpg',\n '348.jpg',\n '349.jpg',\n '35.jpg',\n '350.jpg',\n '351.jpg',\n '352.jpg',\n '353.jpg',\n '354.jpg',\n '355.jpg',\n '356.jpg',\n '357.jpg',\n '358.jpg',\n '359.jpg',\n '36.jpg',\n '360.jpg',\n '361.jpg',\n '362.jpg',\n '363.jpg',\n '364.jpg',\n '365.jpg',\n '366.jpg',\n '367.jpg',\n '368.jpg',\n '369.jpg',\n '37.jpg',\n '370.jpg',\n '371.jpg',\n '372.jpg',\n '373.jpg',\n '374.jpg',\n '375.jpg',\n '376.jpg',\n '377.jpg',\n '378.jpg',\n '379.jpg',\n '38.jpg',\n '380.jpg',\n '381.jpg',\n '382.jpg',\n '383.jpg',\n '384.jpg',\n '385.jpg',\n '386.jpg',\n '387.jpg',\n '388.jpg',\n '389.jpg',\n '39.jpg',\n '390.jpg',\n '391.jpg',\n '392.jpg',\n '393.jpg',\n '394.jpg',\n '395.jpg',\n '396.jpg',\n '397.jpg',\n '398.jpg',\n '399.jpg',\n '4.jpg',\n '40.jpg',\n '400.jpg',\n '401.jpg',\n '402.jpg',\n '403.jpg',\n '404.jpg',\n '405.jpg',\n '406.jpg',\n '407.jpg',\n '408.jpg',\n '409.jpg',\n '41.jpg',\n '410.jpg',\n '411.jpg',\n '412.jpg',\n '413.jpg',\n '414.jpg',\n '415.jpg',\n '416.jpg',\n '417.jpg',\n '418.jpg',\n '419.jpg',\n '42.jpg',\n '420.jpg',\n '421.jpg',\n '422.jpg',\n '423.jpg',\n '424.jpg',\n '425.jpg',\n '426.jpg',\n '427.jpg',\n '428.jpg',\n '429.jpg',\n '43.jpg',\n '430.jpg',\n '431.jpg',\n '432.jpg',\n '433.jpg',\n '434.jpg',\n '435.jpg',\n '436.jpg',\n '437.jpg',\n '438.jpg',\n '439.jpg',\n '44.jpg',\n '440.jpg',\n '441.jpg',\n '442.jpg',\n '443.jpg',\n '444.jpg',\n '445.jpg',\n '446.jpg',\n '447.jpg',\n '448.jpg',\n '449.jpg',\n '45.jpg',\n '46.jpg',\n '47.jpg',\n '48.jpg',\n '49.jpg',\n '5.jpg',\n '50.jpg',\n '51.jpg',\n '52.jpg',\n '53.jpg',\n '54.jpg',\n '55.jpg',\n '56.jpg',\n '57.jpg',\n '58.jpg',\n '59.jpg',\n '6.jpg',\n '60.jpg',\n '61.jpg',\n '62.jpg',\n '63.jpg',\n '64.jpg',\n '65.jpg',\n '66.jpg',\n '67.jpg',\n '68.jpg',\n '69.jpg',\n '7.jpg',\n '70.jpg',\n '71.jpg',\n '72.jpg',\n '73.jpg',\n '74.jpg',\n '75.jpg',\n '76.jpg',\n '77.jpg',\n '78.jpg',\n '79.jpg',\n '8.jpg',\n '80.jpg',\n '81.jpg',\n '82.jpg',\n '83.jpg',\n '84.jpg',\n '85.jpg',\n '86.jpg',\n '87.jpg',\n '88.jpg',\n '89.jpg',\n '9.jpg',\n '90.jpg',\n '91.jpg',\n '92.jpg',\n '93.jpg',\n '94.jpg',\n '95.jpg',\n '96.jpg',\n '97.jpg',\n '98.jpg',\n '99.jpg']"
     },
     "execution_count": 4,
     "metadata": {},
     "output_type": "execute_result"
    }
   ],
   "source": [
    "os.listdir()"
   ]
  },
  {
   "cell_type": "markdown",
   "id": "17c68c29-c117-47ad-b407-e0a53d3c5f52",
   "metadata": {},
   "source": [
    "## 划分训练集、测试集"
   ]
  },
  {
   "cell_type": "code",
   "execution_count": 5,
   "id": "9559d312-7353-47e8-8207-84f31a229b9c",
   "metadata": {
    "ExecuteTime": {
     "end_time": "2023-09-26T15:28:00.116322Z",
     "start_time": "2023-09-26T15:28:00.109898400Z"
    }
   },
   "outputs": [],
   "source": [
    "test_frac = 0.2  # 测试集比例\n",
    "random.seed(123) # 随机数种子，便于复现"
   ]
  },
  {
   "cell_type": "code",
   "execution_count": 6,
   "id": "02992d76-09cf-43ac-8d39-03f18b04a12a",
   "metadata": {
    "ExecuteTime": {
     "end_time": "2023-09-26T15:28:02.155081500Z",
     "start_time": "2023-09-26T15:28:02.151249700Z"
    }
   },
   "outputs": [],
   "source": [
    "folder = '.'"
   ]
  },
  {
   "cell_type": "code",
   "execution_count": 7,
   "id": "9edb977a-5a88-45ff-923d-0865c8b1421c",
   "metadata": {
    "ExecuteTime": {
     "end_time": "2023-09-26T15:28:17.740800900Z",
     "start_time": "2023-09-26T15:28:17.736016100Z"
    }
   },
   "outputs": [
    {
     "name": "stdout",
     "output_type": "stream",
     "text": [
      "数据集文件总数 450\n",
      "训练集文件个数 360\n",
      "测试集文件个数 90\n"
     ]
    }
   ],
   "source": [
    "img_paths = os.listdir(folder)\n",
    "random.shuffle(img_paths) # 随机打乱\n",
    "\n",
    "val_number = int(len(img_paths) * test_frac) # 测试集文件个数\n",
    "train_files = img_paths[val_number:]         # 训练集文件名列表\n",
    "val_files = img_paths[:val_number]           # 测试集文件名列表\n",
    "\n",
    "print('数据集文件总数', len(img_paths))\n",
    "print('训练集文件个数', len(train_files))\n",
    "print('测试集文件个数', len(val_files))"
   ]
  },
  {
   "cell_type": "markdown",
   "id": "7c275b31-12ae-4d62-a050-d7a9636b0439",
   "metadata": {},
   "source": [
    "## 将训练集图像移动到`images/trian`目录"
   ]
  },
  {
   "cell_type": "code",
   "execution_count": 8,
   "id": "66bdba3f-4bfb-4865-a427-e330fefec387",
   "metadata": {
    "ExecuteTime": {
     "end_time": "2023-09-26T15:28:24.540872200Z",
     "start_time": "2023-09-26T15:28:24.419291500Z"
    }
   },
   "outputs": [
    {
     "name": "stderr",
     "output_type": "stream",
     "text": [
      "100%|██████████| 360/360 [00:00<00:00, 3196.98it/s]\n"
     ]
    }
   ],
   "source": [
    "os.mkdir('train')\n",
    "for each in tqdm(train_files):\n",
    "    shutil.move(each, 'train')"
   ]
  },
  {
   "cell_type": "markdown",
   "id": "18828a1d-01ab-4816-937b-292d3578e8f7",
   "metadata": {},
   "source": [
    "## 将测试集图像移动到`images/val`目录"
   ]
  },
  {
   "cell_type": "code",
   "execution_count": 9,
   "id": "962e949b-f578-4be7-9910-7177c308e8fe",
   "metadata": {
    "ExecuteTime": {
     "end_time": "2023-09-26T15:28:27.533140900Z",
     "start_time": "2023-09-26T15:28:27.491440600Z"
    }
   },
   "outputs": [
    {
     "name": "stderr",
     "output_type": "stream",
     "text": [
      "100%|██████████| 90/90 [00:00<00:00, 2655.72it/s]\n"
     ]
    }
   ],
   "source": [
    "os.mkdir('val')\n",
    "for each in tqdm(val_files):\n",
    "    shutil.move(each, 'val')"
   ]
  },
  {
   "cell_type": "markdown",
   "id": "6301413f-f5e2-4a29-b189-26a3dca72193",
   "metadata": {},
   "source": [
    "## 将训练集标注移动到`labelme_jsons/train`目录"
   ]
  },
  {
   "cell_type": "code",
   "execution_count": 10,
   "id": "5ba779c6-5d24-4569-a2c5-93ffebbaed43",
   "metadata": {
    "ExecuteTime": {
     "end_time": "2023-09-26T15:28:32.332911100Z",
     "start_time": "2023-09-26T15:28:32.329698500Z"
    }
   },
   "outputs": [],
   "source": [
    "os.chdir('../labelme_jsons')"
   ]
  },
  {
   "cell_type": "code",
   "execution_count": 11,
   "id": "e96ff435-1705-4c4e-b63b-9f1488618e5a",
   "metadata": {
    "ExecuteTime": {
     "end_time": "2023-09-26T15:28:37.131251800Z",
     "start_time": "2023-09-26T15:28:37.026083100Z"
    }
   },
   "outputs": [
    {
     "name": "stderr",
     "output_type": "stream",
     "text": [
      "100%|██████████| 360/360 [00:00<00:00, 3529.40it/s]\n"
     ]
    }
   ],
   "source": [
    "os.mkdir('train')\n",
    "for each in tqdm(train_files):\n",
    "    srt_path = each.split('.')[0] + '.json'\n",
    "    shutil.move(srt_path, 'train')"
   ]
  },
  {
   "cell_type": "markdown",
   "id": "5311ee76-c792-4b14-8e0f-6d7782ec1aa5",
   "metadata": {},
   "source": [
    "## 将测试集标注移动到`labelme_jsons/val`目录"
   ]
  },
  {
   "cell_type": "code",
   "execution_count": 12,
   "id": "df9f8b03-4f60-42b0-be3c-8e3b5605a7e9",
   "metadata": {
    "ExecuteTime": {
     "end_time": "2023-09-26T15:28:39.130992400Z",
     "start_time": "2023-09-26T15:28:39.095092900Z"
    }
   },
   "outputs": [
    {
     "name": "stderr",
     "output_type": "stream",
     "text": [
      "100%|██████████| 90/90 [00:00<00:00, 3041.26it/s]\n"
     ]
    }
   ],
   "source": [
    "os.mkdir('val')\n",
    "for each in tqdm(val_files):\n",
    "    srt_path = each.split('.')[0] + '.json'\n",
    "    shutil.move(srt_path, 'val')"
   ]
  },
  {
   "cell_type": "code",
   "execution_count": 13,
   "id": "65a18861-f94e-4d96-a432-6ddbbea12fb6",
   "metadata": {
    "ExecuteTime": {
     "end_time": "2023-09-26T15:28:40.947576400Z",
     "start_time": "2023-09-26T15:28:40.941785400Z"
    }
   },
   "outputs": [],
   "source": [
    "os.chdir('../../')"
   ]
  },
  {
   "cell_type": "markdown",
   "id": "b04360b9-c43b-4a01-a093-8908be5ea0a8",
   "metadata": {},
   "source": [
    "## 删除系统自动生成的多余文件"
   ]
  },
  {
   "cell_type": "markdown",
   "id": "f049f6ef-d54d-4d1d-83e7-a8d23bcb85a0",
   "metadata": {},
   "source": [
    "### 查看待删除的多余文件"
   ]
  },
  {
   "cell_type": "code",
   "execution_count": 14,
   "id": "23c17bcc-bcbc-4ed1-a829-1b63e99d2b80",
   "metadata": {
    "ExecuteTime": {
     "end_time": "2023-09-26T15:28:43.560928600Z",
     "start_time": "2023-09-26T15:28:43.428697Z"
    }
   },
   "outputs": [
    {
     "name": "stderr",
     "output_type": "stream",
     "text": [
      "FIND: 参数格式不正确\n"
     ]
    }
   ],
   "source": [
    "!find . -iname '__MACOSX'"
   ]
  },
  {
   "cell_type": "code",
   "execution_count": 15,
   "id": "69da9d50-11d1-4071-b818-dbb065a6474e",
   "metadata": {
    "ExecuteTime": {
     "end_time": "2023-09-26T15:28:44.253462600Z",
     "start_time": "2023-09-26T15:28:44.170353400Z"
    }
   },
   "outputs": [
    {
     "name": "stderr",
     "output_type": "stream",
     "text": [
      "FIND: 参数格式不正确\n"
     ]
    }
   ],
   "source": [
    "!find . -iname '.DS_Store'"
   ]
  },
  {
   "cell_type": "code",
   "execution_count": 16,
   "id": "d4d6ca60-2948-4105-b635-e0d390814067",
   "metadata": {
    "ExecuteTime": {
     "end_time": "2023-09-26T15:28:44.905015800Z",
     "start_time": "2023-09-26T15:28:44.877145800Z"
    }
   },
   "outputs": [
    {
     "name": "stderr",
     "output_type": "stream",
     "text": [
      "FIND: 参数格式不正确\n"
     ]
    }
   ],
   "source": [
    "!find . -iname '.ipynb_checkpoints'"
   ]
  },
  {
   "cell_type": "markdown",
   "id": "fedea526-5aac-42a6-b058-61b4ae4afe81",
   "metadata": {},
   "source": [
    "### 删除多余文件"
   ]
  },
  {
   "cell_type": "code",
   "execution_count": 17,
   "id": "8d959813-5703-4e01-ba3e-f27b207d59f2",
   "metadata": {
    "ExecuteTime": {
     "end_time": "2023-09-26T15:28:46.043673500Z",
     "start_time": "2023-09-26T15:28:46.026265600Z"
    }
   },
   "outputs": [
    {
     "name": "stderr",
     "output_type": "stream",
     "text": [
      "此时不应有 i。\n"
     ]
    }
   ],
   "source": [
    "!for i in `find . -iname '__MACOSX'`; do rm -rf $i;done"
   ]
  },
  {
   "cell_type": "code",
   "execution_count": 18,
   "id": "d2ea0bef-6954-44d5-8478-680c8d7eded1",
   "metadata": {
    "ExecuteTime": {
     "end_time": "2023-09-26T15:28:46.453056900Z",
     "start_time": "2023-09-26T15:28:46.436432400Z"
    }
   },
   "outputs": [
    {
     "name": "stderr",
     "output_type": "stream",
     "text": [
      "此时不应有 i。\n"
     ]
    }
   ],
   "source": [
    "!for i in `find . -iname '.DS_Store'`; do rm -rf $i;done"
   ]
  },
  {
   "cell_type": "code",
   "execution_count": 19,
   "id": "7a2b568c-2685-4a13-90f6-185f60066360",
   "metadata": {
    "ExecuteTime": {
     "end_time": "2023-09-26T15:28:47.163325300Z",
     "start_time": "2023-09-26T15:28:47.131542500Z"
    }
   },
   "outputs": [
    {
     "name": "stderr",
     "output_type": "stream",
     "text": [
      "此时不应有 i。\n"
     ]
    }
   ],
   "source": [
    "!for i in `find . -iname '.ipynb_checkpoints'`; do rm -rf $i;done"
   ]
  },
  {
   "cell_type": "markdown",
   "id": "c0f41291-369b-4dd2-8265-8b54a980f6ea",
   "metadata": {},
   "source": [
    "### 验证多余文件已删除"
   ]
  },
  {
   "cell_type": "code",
   "execution_count": 20,
   "id": "2dea6d10-e56f-4775-a055-933d09a9adde",
   "metadata": {
    "ExecuteTime": {
     "end_time": "2023-09-26T15:28:48.761495600Z",
     "start_time": "2023-09-26T15:28:48.729070900Z"
    }
   },
   "outputs": [
    {
     "name": "stderr",
     "output_type": "stream",
     "text": [
      "FIND: 参数格式不正确\n"
     ]
    }
   ],
   "source": [
    "!find . -iname '__MACOSX'"
   ]
  },
  {
   "cell_type": "code",
   "execution_count": 21,
   "id": "23d47236-e846-42bd-9856-a0dd07a23621",
   "metadata": {
    "ExecuteTime": {
     "end_time": "2023-09-26T15:28:49.210407600Z",
     "start_time": "2023-09-26T15:28:49.161464500Z"
    }
   },
   "outputs": [
    {
     "name": "stderr",
     "output_type": "stream",
     "text": [
      "FIND: 参数格式不正确\n"
     ]
    }
   ],
   "source": [
    "!find . -iname '.DS_Store'"
   ]
  },
  {
   "cell_type": "code",
   "execution_count": 22,
   "id": "a85571be-399b-4e6e-b00e-f3fea415a17e",
   "metadata": {
    "ExecuteTime": {
     "end_time": "2023-09-26T15:28:50.185780400Z",
     "start_time": "2023-09-26T15:28:50.148179200Z"
    }
   },
   "outputs": [
    {
     "name": "stderr",
     "output_type": "stream",
     "text": [
      "FIND: 参数格式不正确\n"
     ]
    }
   ],
   "source": [
    "!find . -iname '.ipynb_checkpoints'"
   ]
  },
  {
   "cell_type": "code",
   "execution_count": 22,
   "id": "2c0f299b-1987-4ed4-8223-fe97898983c8",
   "metadata": {
    "ExecuteTime": {
     "end_time": "2023-09-26T15:28:51.503820800Z",
     "start_time": "2023-09-26T15:28:51.500822600Z"
    }
   },
   "outputs": [],
   "source": []
  },
  {
   "cell_type": "code",
   "execution_count": 22,
   "outputs": [],
   "source": [],
   "metadata": {
    "collapsed": false,
    "pycharm": {
     "is_executing": true
    },
    "ExecuteTime": {
     "end_time": "2023-09-26T15:28:52.256911600Z",
     "start_time": "2023-09-26T15:28:52.248614600Z"
    }
   },
   "id": "b9fb4cf5341fb832"
  },
  {
   "cell_type": "code",
   "execution_count": 22,
   "outputs": [],
   "source": [],
   "metadata": {
    "collapsed": false,
    "pycharm": {
     "is_executing": true
    },
    "ExecuteTime": {
     "end_time": "2023-09-26T15:28:52.683546100Z",
     "start_time": "2023-09-26T15:28:52.680398300Z"
    }
   },
   "id": "9199fa6f8627df78"
  },
  {
   "cell_type": "code",
   "execution_count": 22,
   "outputs": [],
   "source": [],
   "metadata": {
    "collapsed": false,
    "pycharm": {
     "is_executing": true
    },
    "ExecuteTime": {
     "end_time": "2023-09-26T15:28:53.394097200Z",
     "start_time": "2023-09-26T15:28:53.387980800Z"
    }
   },
   "id": "7dda12ef3e433dfb"
  },
  {
   "cell_type": "code",
   "execution_count": 22,
   "outputs": [],
   "source": [],
   "metadata": {
    "collapsed": false,
    "ExecuteTime": {
     "end_time": "2023-09-26T15:28:53.902517Z",
     "start_time": "2023-09-26T15:28:53.883173600Z"
    }
   },
   "id": "b22365e85c7763d1"
  },
  {
   "cell_type": "code",
   "execution_count": 22,
   "outputs": [],
   "source": [],
   "metadata": {
    "collapsed": false,
    "ExecuteTime": {
     "end_time": "2023-09-26T15:28:54.493688600Z",
     "start_time": "2023-09-26T15:28:54.462770600Z"
    }
   },
   "id": "1155929ca189ed38"
  },
  {
   "cell_type": "code",
   "execution_count": null,
   "outputs": [],
   "source": [],
   "metadata": {
    "collapsed": false
   },
   "id": "9be3f3169c1b14e0"
  }
 ],
 "metadata": {
  "kernelspec": {
   "display_name": "Python 3 (ipykernel)",
   "language": "python",
   "name": "python3"
  },
  "language_info": {
   "codemirror_mode": {
    "name": "ipython",
    "version": 3
   },
   "file_extension": ".py",
   "mimetype": "text/x-python",
   "name": "python",
   "nbconvert_exporter": "python",
   "pygments_lexer": "ipython3",
   "version": "3.11.2"
  }
 },
 "nbformat": 4,
 "nbformat_minor": 5
}
